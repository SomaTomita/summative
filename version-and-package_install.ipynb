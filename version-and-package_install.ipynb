{
 "cells": [
  {
   "cell_type": "code",
   "execution_count": null,
   "id": "ab46889e-0121-4528-83bb-a5d01496735f",
   "metadata": {},
   "outputs": [],
   "source": [
    "conda install python=3.10"
   ]
  },
  {
   "cell_type": "code",
   "execution_count": 7,
   "id": "8e12c274-d0ed-4a57-ad6e-da11d643cd02",
   "metadata": {},
   "outputs": [
    {
     "name": "stdout",
     "output_type": "stream",
     "text": [
      "# packages in environment at /opt/homebrew/anaconda3:\n",
      "#\n",
      "# Name                    Version                   Build  Channel\n",
      "gitpython                 3.1.43                   pypi_0    pypi\n",
      "ipython                   8.27.0                   pypi_0    pypi\n",
      "ipython-genutils          0.2.0                    pypi_0    pypi\n",
      "python                    3.10.16              hb885b13_1  \n",
      "python-dateutil           2.9.0.post0              pypi_0    pypi\n",
      "python-dotenv             0.21.0                   pypi_0    pypi\n",
      "python-json-logger        2.0.7                    pypi_0    pypi\n",
      "python-lsp-black          2.0.0                    pypi_0    pypi\n",
      "python-lsp-jsonrpc        1.1.2                    pypi_0    pypi\n",
      "python-lsp-server         1.12.0                   pypi_0    pypi\n",
      "python-slugify            5.0.2                    pypi_0    pypi\n",
      "\n",
      "Note: you may need to restart the kernel to use updated packages.\n"
     ]
    }
   ],
   "source": [
    "conda list python"
   ]
  },
  {
   "cell_type": "code",
   "execution_count": null,
   "id": "fd582622-e489-4209-a60d-8bb8c376019a",
   "metadata": {},
   "outputs": [],
   "source": []
  }
 ],
 "metadata": {
  "kernelspec": {
   "display_name": "Python [conda env:base] *",
   "language": "python",
   "name": "conda-base-py"
  },
  "language_info": {
   "codemirror_mode": {
    "name": "ipython",
    "version": 3
   },
   "file_extension": ".py",
   "mimetype": "text/x-python",
   "name": "python",
   "nbconvert_exporter": "python",
   "pygments_lexer": "ipython3",
   "version": "3.10.16"
  }
 },
 "nbformat": 4,
 "nbformat_minor": 5
}
