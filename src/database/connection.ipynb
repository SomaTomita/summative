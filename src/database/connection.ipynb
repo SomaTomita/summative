{
 "cells": [
  {
   "cell_type": "code",
   "execution_count": 9,
   "id": "6d66def9-7d26-4de5-9778-2b31ce06a523",
   "metadata": {},
   "outputs": [
    {
     "name": "stdout",
     "output_type": "stream",
     "text": [
      "Requirement already satisfied: pymongo in /opt/homebrew/anaconda3/envs/python/lib/python3.9/site-packages (4.10.1)\n",
      "Requirement already satisfied: dnspython<3.0.0,>=1.16.0 in /opt/homebrew/anaconda3/envs/python/lib/python3.9/site-packages (from pymongo) (2.7.0)\n",
      "Note: you may need to restart the kernel to use updated packages.\n"
     ]
    }
   ],
   "source": [
    "pip install pymongo"
   ]
  },
  {
   "cell_type": "code",
   "execution_count": 7,
   "id": "44d359e7-79d8-4006-8805-eec06d6f39ea",
   "metadata": {},
   "outputs": [],
   "source": [
    "from pymongo import MongoClient\n",
    "\n",
    "MONGO_HOST = 'localhost'\n",
    "MONGO_PORT = 27017\n",
    "MONGO_DB = 'admin'\n",
    "MONGO_USERNAME = 'root'\n",
    "MONGO_PASSWORD = 'mongo_password'\n",
    "\n",
    "\n",
    "def get_mongo_client():\n",
    "    uri = f\"mongodb://{MONGO_USERNAME}:{MONGO_PASSWORD}@{MONGO_HOST}:{MONGO_PORT}/\"\n",
    "    client = MongoClient(uri)\n",
    "    return client\n",
    "\n",
    "\n",
    "def get_database():\n",
    "    try:\n",
    "        client = get_mongo_client()\n",
    "        db = client[MONGO_DB]\n",
    "        print(\"DB connection OK\")\n",
    "        return db\n",
    "    except Exception as e:\n",
    "        print(\"DB connection error:\", e)\n",
    "        return None\n"
   ]
  },
  {
   "cell_type": "code",
   "execution_count": 8,
   "id": "eeca1a96-a533-4277-9a16-e74a90ab25af",
   "metadata": {},
   "outputs": [
    {
     "name": "stdout",
     "output_type": "stream",
     "text": [
      "DB connection OK\n"
     ]
    }
   ],
   "source": [
    "db = get_database()"
   ]
  },
  {
   "cell_type": "code",
   "execution_count": 11,
   "id": "e234c474-91e8-4777-91b9-fa48a4a53f49",
   "metadata": {},
   "outputs": [
    {
     "name": "stdout",
     "output_type": "stream",
     "text": [
      "DB connection OK\n",
      "Inserted ID: 674c22f5c736203e932b6e57\n"
     ]
    },
    {
     "data": {
      "text/plain": [
       "InsertOneResult(ObjectId('674c22f5c736203e932b6e57'), acknowledged=True)"
      ]
     },
     "execution_count": 11,
     "metadata": {},
     "output_type": "execute_result"
    }
   ],
   "source": [
    "#test\n",
    "def insert_document(collection, data):\n",
    "    try:\n",
    "        result = collection.insert_one(data)\n",
    "        print(\"Inserted ID:\", result.inserted_id)\n",
    "        return result\n",
    "    except Exception as e:\n",
    "        print(\"Insertion error:\", e)\n",
    "        return None\n",
    "\n",
    "# Test\n",
    "db = get_database()\n",
    "collection = db[\"test\"]\n",
    "\n",
    "test_data = {\"name\": \"Test User\", \"age\": 28}\n",
    "insert_document(collection, test_data)\n"
   ]
  },
  {
   "cell_type": "code",
   "execution_count": 14,
   "id": "3cc85b03-292f-4225-80a2-d14c3f62275d",
   "metadata": {},
   "outputs": [
    {
     "name": "stdout",
     "output_type": "stream",
     "text": [
      "DB connection OK\n",
      "No matching document found.\n"
     ]
    },
    {
     "data": {
      "text/plain": [
       "DeleteResult({'n': 0, 'ok': 1.0}, acknowledged=True)"
      ]
     },
     "execution_count": 14,
     "metadata": {},
     "output_type": "execute_result"
    }
   ],
   "source": [
    "#test\n",
    "def delete_document(collection, query):\n",
    "    try:\n",
    "        result = collection.delete_one(query)\n",
    "        if result.deleted_count > 0:\n",
    "            print(\"Document deleted successfully.\")\n",
    "        else:\n",
    "            print(\"No matching document found.\")\n",
    "        return result\n",
    "    except Exception as e:\n",
    "        print(\"Deletion error:\", e)\n",
    "        return None\n",
    "\n",
    "\n",
    "db = get_database()\n",
    "collection = db[\"test\"]\n",
    "\n",
    "query = {\"name\": \"Test User\", \"age\": 28}\n",
    "delete_document(collection, query)"
   ]
  }
 ],
 "metadata": {
  "kernelspec": {
   "display_name": "Python 3 (ipykernel)",
   "language": "python",
   "name": "python3"
  },
  "language_info": {
   "codemirror_mode": {
    "name": "ipython",
    "version": 3
   },
   "file_extension": ".py",
   "mimetype": "text/x-python",
   "name": "python",
   "nbconvert_exporter": "python",
   "pygments_lexer": "ipython3",
   "version": "3.9.20"
  }
 },
 "nbformat": 4,
 "nbformat_minor": 5
}
