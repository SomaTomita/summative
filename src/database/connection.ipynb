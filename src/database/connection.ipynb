{
 "cells": [
  {
   "cell_type": "code",
   "execution_count": 22,
   "id": "6d66def9-7d26-4de5-9778-2b31ce06a523",
   "metadata": {},
   "outputs": [
    {
     "name": "stdout",
     "output_type": "stream",
     "text": [
      "Collecting pymongo\n",
      "  Downloading pymongo-4.10.1-cp39-cp39-macosx_11_0_arm64.whl.metadata (22 kB)\n",
      "Collecting dnspython<3.0.0,>=1.16.0 (from pymongo)\n",
      "  Using cached dnspython-2.7.0-py3-none-any.whl.metadata (5.8 kB)\n",
      "Downloading pymongo-4.10.1-cp39-cp39-macosx_11_0_arm64.whl (781 kB)\n",
      "\u001b[2K   \u001b[90m━━━━━━━━━━━━━━━━━━━━━━━━━━━━━━━━━━━━━━━━\u001b[0m \u001b[32m781.9/781.9 kB\u001b[0m \u001b[31m11.5 MB/s\u001b[0m eta \u001b[36m0:00:00\u001b[0m\n",
      "\u001b[?25hUsing cached dnspython-2.7.0-py3-none-any.whl (313 kB)\n",
      "Installing collected packages: dnspython, pymongo\n",
      "Successfully installed dnspython-2.7.0 pymongo-4.10.1\n",
      "Note: you may need to restart the kernel to use updated packages.\n"
     ]
    }
   ],
   "source": [
    "pip install pymongo"
   ]
  },
  {
   "cell_type": "code",
   "execution_count": 2,
   "id": "44d359e7-79d8-4006-8805-eec06d6f39ea",
   "metadata": {},
   "outputs": [],
   "source": [
    "from pymongo import MongoClient\n",
    "\n",
    "MONGO_HOST = 'localhost'\n",
    "MONGO_PORT = 27017\n",
    "MONGO_DB = 'admin'\n",
    "MONGO_USERNAME = 'root'\n",
    "MONGO_PASSWORD = 'mongo_password'\n",
    "\n",
    "\n",
    "def get_mongo_client():\n",
    "    uri = f\"mongodb://{MONGO_USERNAME}:{MONGO_PASSWORD}@{MONGO_HOST}:{MONGO_PORT}/\"\n",
    "    client = MongoClient(uri)\n",
    "    return client\n",
    "\n",
    "\n",
    "def get_database():\n",
    "    try:\n",
    "        client = get_mongo_client()\n",
    "        db = client[MONGO_DB]\n",
    "        print(\"DB connection OK\")\n",
    "        return db\n",
    "    except Exception as e:\n",
    "        print(\"DB connection error:\", e)\n",
    "        return None\n"
   ]
  },
  {
   "cell_type": "code",
   "execution_count": 24,
   "id": "eeca1a96-a533-4277-9a16-e74a90ab25af",
   "metadata": {},
   "outputs": [
    {
     "name": "stdout",
     "output_type": "stream",
     "text": [
      "DB connection OK\n"
     ]
    }
   ],
   "source": [
    "db = get_database()"
   ]
  },
  {
   "cell_type": "code",
   "execution_count": 29,
   "id": "e234c474-91e8-4777-91b9-fa48a4a53f49",
   "metadata": {},
   "outputs": [
    {
     "name": "stdout",
     "output_type": "stream",
     "text": [
      "DB connection OK\n",
      "Inserted ID: 673383a3e4948f89e8f00182\n"
     ]
    },
    {
     "data": {
      "text/plain": [
       "InsertOneResult(ObjectId('673383a3e4948f89e8f00182'), acknowledged=True)"
      ]
     },
     "execution_count": 29,
     "metadata": {},
     "output_type": "execute_result"
    }
   ],
   "source": [
    "def insert_document(collection, data):\n",
    "    try:\n",
    "        print(\"Inserted ID:\", result.inserted_id)\n",
    "        return result\n",
    "    except Exception as e:\n",
    "        print(\"Insertion error:\", e)\n",
    "        return None\n",
    "\n",
    "\n",
    "db = get_database()\n",
    "collection = db[\"test\"]\n",
    "\n",
    "test_data = {\"name\": \"Test User\", \"age\": 28}\n",
    "insert_document(collection, test_data)"
   ]
  },
  {
   "cell_type": "code",
   "execution_count": 3,
   "id": "3cc85b03-292f-4225-80a2-d14c3f62275d",
   "metadata": {},
   "outputs": [
    {
     "name": "stdout",
     "output_type": "stream",
     "text": [
      "DB connection OK\n",
      "Document deleted successfully.\n"
     ]
    },
    {
     "data": {
      "text/plain": [
       "DeleteResult({'n': 1, 'ok': 1.0}, acknowledged=True)"
      ]
     },
     "execution_count": 3,
     "metadata": {},
     "output_type": "execute_result"
    }
   ],
   "source": [
    "def delete_document(collection, query):\n",
    "    try:\n",
    "        result = collection.delete_one(query)\n",
    "        if result.deleted_count > 0:\n",
    "            print(\"Document deleted successfully.\")\n",
    "        else:\n",
    "            print(\"No matching document found.\")\n",
    "        return result\n",
    "    except Exception as e:\n",
    "        print(\"Deletion error:\", e)\n",
    "        return None\n",
    "\n",
    "\n",
    "db = get_database()\n",
    "collection = db[\"test\"]\n",
    "\n",
    "query = {\"name\": \"Test User\", \"age\": 28}\n",
    "delete_document(collection, query)"
   ]
  }
 ],
 "metadata": {
  "kernelspec": {
   "display_name": "Python 3 (ipykernel)",
   "language": "python",
   "name": "python3"
  },
  "language_info": {
   "codemirror_mode": {
    "name": "ipython",
    "version": 3
   },
   "file_extension": ".py",
   "mimetype": "text/x-python",
   "name": "python",
   "nbconvert_exporter": "python",
   "pygments_lexer": "ipython3",
   "version": "3.9.20"
  }
 },
 "nbformat": 4,
 "nbformat_minor": 5
}
