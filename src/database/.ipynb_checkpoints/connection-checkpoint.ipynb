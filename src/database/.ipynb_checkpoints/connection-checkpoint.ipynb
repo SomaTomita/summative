{
 "cells": [
  {
   "cell_type": "code",
   "execution_count": 22,
   "id": "6d66def9-7d26-4de5-9778-2b31ce06a523",
   "metadata": {},
   "outputs": [
    {
     "name": "stdout",
     "output_type": "stream",
     "text": [
      "Collecting pymongo\n",
      "  Downloading pymongo-4.10.1-cp39-cp39-macosx_11_0_arm64.whl.metadata (22 kB)\n",
      "Collecting dnspython<3.0.0,>=1.16.0 (from pymongo)\n",
      "  Using cached dnspython-2.7.0-py3-none-any.whl.metadata (5.8 kB)\n",
      "Downloading pymongo-4.10.1-cp39-cp39-macosx_11_0_arm64.whl (781 kB)\n",
      "\u001b[2K   \u001b[90m━━━━━━━━━━━━━━━━━━━━━━━━━━━━━━━━━━━━━━━━\u001b[0m \u001b[32m781.9/781.9 kB\u001b[0m \u001b[31m11.5 MB/s\u001b[0m eta \u001b[36m0:00:00\u001b[0m\n",
      "\u001b[?25hUsing cached dnspython-2.7.0-py3-none-any.whl (313 kB)\n",
      "Installing collected packages: dnspython, pymongo\n",
      "Successfully installed dnspython-2.7.0 pymongo-4.10.1\n",
      "Note: you may need to restart the kernel to use updated packages.\n"
     ]
    }
   ],
   "source": [
    "pip install pymongo"
   ]
  },
  {
   "cell_type": "code",
   "execution_count": 23,
   "id": "44d359e7-79d8-4006-8805-eec06d6f39ea",
   "metadata": {},
   "outputs": [],
   "source": [
    "from pymongo import MongoClient\n",
    "\n",
    "MONGO_HOST = 'localhost'\n",
    "MONGO_PORT = 27017\n",
    "MONGO_DB = 'admin'\n",
    "MONGO_USERNAME = 'root'\n",
    "MONGO_PASSWORD = 'mongo_password'\n",
    "\n",
    "\n",
    "def get_mongo_client():\n",
    "    uri = f\"mongodb://{MONGO_USERNAME}:{MONGO_PASSWORD}@{MONGO_HOST}:{MONGO_PORT}/\"\n",
    "    client = MongoClient(uri)\n",
    "    return client\n",
    "\n",
    "\n",
    "def get_database():\n",
    "    try:\n",
    "        client = get_mongo_client()\n",
    "        db = client[MONGO_DB]\n",
    "        print(\"DB connection OK\")\n",
    "        return db\n",
    "    except Exception as e:\n",
    "        print(\"DB connection error:\", e)\n",
    "        return None\n"
   ]
  },
  {
   "cell_type": "code",
   "execution_count": 24,
   "id": "eeca1a96-a533-4277-9a16-e74a90ab25af",
   "metadata": {},
   "outputs": [
    {
     "name": "stdout",
     "output_type": "stream",
     "text": [
      "DB connection OK\n"
     ]
    }
   ],
   "source": [
    "db = get_database()"
   ]
  },
  {
   "cell_type": "code",
   "execution_count": 29,
   "id": "e234c474-91e8-4777-91b9-fa48a4a53f49",
   "metadata": {},
   "outputs": [
    {
     "name": "stdout",
     "output_type": "stream",
     "text": [
      "DB connection OK\n",
      "Inserted ID: 673383a3e4948f89e8f00182\n"
     ]
    },
    {
     "data": {
      "text/plain": [
       "InsertOneResult(ObjectId('673383a3e4948f89e8f00182'), acknowledged=True)"
      ]
     },
     "execution_count": 29,
     "metadata": {},
     "output_type": "execute_result"
    }
   ],
   "source": [
    "def insert_document(collection, data):\n",
    "    try:\n",
    "        print(\"Inserted ID:\", result.inserted_id)\n",
    "        return result\n",
    "    except Exception as e:\n",
    "        print(\"Insertion error:\", e)\n",
    "        return None\n",
    "\n",
    "\n",
    "db = get_database()\n",
    "collection = db[\"test\"]\n",
    "\n",
    "test_data = {\"name\": \"Test User\", \"age\": 28}\n",
    "insert_document(collection, test_data)"
   ]
  },
  {
   "cell_type": "code",
   "execution_count": 1,
   "id": "3cc85b03-292f-4225-80a2-d14c3f62275d",
   "metadata": {},
   "outputs": [
    {
     "ename": "NameError",
     "evalue": "name 'get_database' is not defined",
     "output_type": "error",
     "traceback": [
      "\u001b[0;31m---------------------------------------------------------------------------\u001b[0m",
      "\u001b[0;31mNameError\u001b[0m                                 Traceback (most recent call last)",
      "Cell \u001b[0;32mIn[1], line 14\u001b[0m\n\u001b[1;32m     10\u001b[0m         \u001b[38;5;28mprint\u001b[39m(\u001b[38;5;124m\"\u001b[39m\u001b[38;5;124mDeletion error:\u001b[39m\u001b[38;5;124m\"\u001b[39m, e)\n\u001b[1;32m     11\u001b[0m         \u001b[38;5;28;01mreturn\u001b[39;00m \u001b[38;5;28;01mNone\u001b[39;00m\n\u001b[0;32m---> 14\u001b[0m db \u001b[38;5;241m=\u001b[39m \u001b[43mget_database\u001b[49m()\n\u001b[1;32m     15\u001b[0m collection \u001b[38;5;241m=\u001b[39m db[\u001b[38;5;124m\"\u001b[39m\u001b[38;5;124mtest\u001b[39m\u001b[38;5;124m\"\u001b[39m]\n\u001b[1;32m     17\u001b[0m query \u001b[38;5;241m=\u001b[39m {\u001b[38;5;124m\"\u001b[39m\u001b[38;5;124mname\u001b[39m\u001b[38;5;124m\"\u001b[39m: \u001b[38;5;124m\"\u001b[39m\u001b[38;5;124mTest User\u001b[39m\u001b[38;5;124m\"\u001b[39m, \u001b[38;5;124m\"\u001b[39m\u001b[38;5;124mage\u001b[39m\u001b[38;5;124m\"\u001b[39m: \u001b[38;5;241m28\u001b[39m}\n",
      "\u001b[0;31mNameError\u001b[0m: name 'get_database' is not defined"
     ]
    }
   ],
   "source": [
    "def delete_document(collection, query):\n",
    "    try:\n",
    "        result = collection.delete_one(query)\n",
    "        if result.deleted_count > 0:\n",
    "            print(\"Document deleted successfully.\")\n",
    "        else:\n",
    "            print(\"No matching document found.\")\n",
    "        return result\n",
    "    except Exception as e:\n",
    "        print(\"Deletion error:\", e)\n",
    "        return None\n",
    "\n",
    "\n",
    "db = get_database()\n",
    "collection = db[\"test\"]\n",
    "\n",
    "query = {\"name\": \"Test User\", \"age\": 28}\n",
    "delete_document(collection, query)"
   ]
  }
 ],
 "metadata": {
  "kernelspec": {
   "display_name": "Python 3 (ipykernel)",
   "language": "python",
   "name": "python3"
  },
  "language_info": {
   "codemirror_mode": {
    "name": "ipython",
    "version": 3
   },
   "file_extension": ".py",
   "mimetype": "text/x-python",
   "name": "python",
   "nbconvert_exporter": "python",
   "pygments_lexer": "ipython3",
   "version": "3.9.20"
  }
 },
 "nbformat": 4,
 "nbformat_minor": 5
}
