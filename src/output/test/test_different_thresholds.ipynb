{
 "cells": [
  {
   "cell_type": "code",
   "execution_count": 3,
   "id": "71e72663-b956-4adf-a518-823d1a6e4b5d",
   "metadata": {},
   "outputs": [
    {
     "name": "stdout",
     "output_type": "stream",
     "text": [
      "Data Retention Rate at Different Thresholds:\n",
      "       Assignment    Quiz Lecture    Book Project  Course\n",
      "10-90%     79.86%  80.04%  79.86%  79.86%  91.17%  79.86%\n",
      "15-85%     69.96%  69.96%  70.14%  69.96%  91.17%  69.96%\n",
      "20-80%     60.07%  60.07%  60.07%  60.07%  91.17%  60.07%\n"
     ]
    }
   ],
   "source": [
    "import pandas as pd\n",
    "from pymongo import MongoClient\n",
    "\n",
    "# DB setting\n",
    "MONGO_HOST = 'localhost'\n",
    "MONGO_PORT = 27017\n",
    "MONGO_DB = 'admin'\n",
    "MONGO_USERNAME = 'root'\n",
    "MONGO_PASSWORD = 'mongo_password'\n",
    "\n",
    "def get_database():\n",
    "    uri = f\"mongodb://{MONGO_USERNAME}:{MONGO_PASSWORD}@{MONGO_HOST}:{MONGO_PORT}/\"\n",
    "    client = MongoClient(uri)\n",
    "    return client[MONGO_DB]\n",
    "\n",
    "def load_pivot_data_from_mongo():\n",
    "    db = get_database()\n",
    "    data = list(db[\"count_data\"].find({}, {\"_id\": 0}))\n",
    "    pivot_df = pd.DataFrame(data)\n",
    "    if \"User_ID\" in pivot_df.columns and \"Month\" in pivot_df.columns:\n",
    "        pivot_df.set_index([\"User_ID\", \"Month\"], inplace=True)\n",
    "    return pivot_df\n",
    "\n",
    "def evaluate_thresholds(df, components, thresholds=[0.1, 0.15, 0.2]):\n",
    "    results = {}\n",
    "    for comp in components:\n",
    "        if comp in df.columns:\n",
    "            results[comp] = {}\n",
    "            for t in thresholds:\n",
    "                q_low = df[comp].quantile(t)\n",
    "                q_high = df[comp].quantile(1 - t)\n",
    "                retained = df[(df[comp] >= q_low) & (df[comp] <= q_high)]\n",
    "                retention_rate = len(retained) / len(df)\n",
    "                results[comp][f\"{int(t*100)}-{int((1-t)*100)}%\"] = f\"{retention_rate:.2%}\"\n",
    "    return results\n",
    "\n",
    "pivot_data = load_pivot_data_from_mongo()\n",
    "correlation_components = [\"Assignment\", \"Quiz\", \"Lecture\", \"Book\", \"Project\", \"Course\"]\n",
    "thresholds_results = evaluate_thresholds(pivot_data, correlation_components)\n",
    "print(\"Data Retention Rate at Different Thresholds:\")\n",
    "print(pd.DataFrame(thresholds_results))\n"
   ]
  }
 ],
 "metadata": {
  "kernelspec": {
   "display_name": "Python [conda env:base] *",
   "language": "python",
   "name": "conda-base-py"
  },
  "language_info": {
   "codemirror_mode": {
    "name": "ipython",
    "version": 3
   },
   "file_extension": ".py",
   "mimetype": "text/x-python",
   "name": "python",
   "nbconvert_exporter": "python",
   "pygments_lexer": "ipython3",
   "version": "3.10.16"
  }
 },
 "nbformat": 4,
 "nbformat_minor": 5
}
