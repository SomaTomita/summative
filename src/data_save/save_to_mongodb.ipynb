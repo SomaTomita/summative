{
 "cells": [
  {
   "cell_type": "code",
   "execution_count": 3,
   "id": "8c815ecb-f4d3-4f8a-bfde-68bedfd371f1",
   "metadata": {},
   "outputs": [
    {
     "name": "stdout",
     "output_type": "stream",
     "text": [
      "Loaded data from ../../data/USER_LOG.csv\n",
      "Renamed column 'User Full Name *Anonymized' to 'User_ID'\n",
      "Added 'Month' column based on 'Date' column\n",
      "DB connection OK\n",
      "Saved 150835 records to MongoDB collection: user_log\n"
     ]
    }
   ],
   "source": [
    "import pandas as pd\n",
    "import os\n",
    "from pymongo import MongoClient\n",
    "\n",
    "MONGO_HOST = 'localhost'\n",
    "MONGO_PORT = 27017\n",
    "MONGO_DB = 'admin'\n",
    "MONGO_USERNAME = 'root'\n",
    "MONGO_PASSWORD = 'mongo_password'\n",
    "\n",
    "def get_mongo_client():\n",
    "    uri = f\"mongodb://{MONGO_USERNAME}:{MONGO_PASSWORD}@{MONGO_HOST}:{MONGO_PORT}/\"\n",
    "    client = MongoClient(uri)\n",
    "    return client\n",
    "\n",
    "def get_database():\n",
    "    try:\n",
    "        client = get_mongo_client()\n",
    "        db = client[MONGO_DB]\n",
    "        print(\"DB connection OK\")\n",
    "        return db\n",
    "    except Exception as e:\n",
    "        print(\"DB connection error:\", e)\n",
    "        return None\n",
    "\n",
    "\n",
    "BASE_PATH = '../../../data/'\n",
    "activity_log_path = os.path.join(BASE_PATH, 'ACTIVITY_LOG.csv')\n",
    "user_log_path = os.path.join(BASE_PATH, 'USER_LOG.csv')\n",
    "component_codes_path = os.path.join(BASE_PATH, 'COMPONENT_CODES.csv')\n",
    "\n",
    "\n",
    "def save_csv_to_mongodb(file_path, collection_name, rename_column=None, add_month_column=False, date_column=None):\n",
    "    try:\n",
    "        data = pd.read_csv(file_path)\n",
    "\n",
    "        # RENAME\n",
    "        if rename_column:\n",
    "            old_name, new_name = rename_column\n",
    "            if old_name in data.columns:\n",
    "                data.rename(columns={old_name: new_name}, inplace=True)\n",
    "                print(f\"Renamed column '{old_name}' to '{new_name}'\")\n",
    "\n",
    "        # Add Month column for COUNT\n",
    "        if add_month_column and date_column:\n",
    "            if date_column in data.columns:\n",
    "                data['Date'] = pd.to_datetime(data[date_column], format='%d/%m/%Y %H:%M', errors='coerce')\n",
    "                data['Month'] = data['Date'].dt.month\n",
    "                print(f\"Added 'Month' column based on '{date_column}' column\")\n",
    "\n",
    "        # Save to MongoDB for BACKUP\n",
    "        db = get_database()\n",
    "        collection = db[collection_name]\n",
    "        if collection_name in db.list_collection_names():\n",
    "            collection.drop()\n",
    "\n",
    "        records = data.to_dict('records')\n",
    "        collection.insert_many(records)\n",
    "        print(f\"Saved {len(records)} records to MongoDB collection: {collection_name}\")\n",
    "    except Exception as e:\n",
    "        print(f\"Error processing file {file_path}: {e}\")\n",
    "\n",
    "\n",
    "# MAIN (save raw data to mongodb)\n",
    "save_csv_to_mongodb(activity_log_path, 'activity_log', rename_column=('User Full Name *Anonymized', 'User_ID'))\n",
    "save_csv_to_mongodb(user_log_path, 'user_log', rename_column=('User Full Name *Anonymized', 'User_ID'), add_month_column=True, date_column='Date')\n",
    "save_csv_to_mongodb(component_codes_path, 'component_codes')"
   ]
  }
 ],
 "metadata": {
  "kernelspec": {
   "display_name": "Python 3 (ipykernel)",
   "language": "python",
   "name": "python3"
  },
  "language_info": {
   "codemirror_mode": {
    "name": "ipython",
    "version": 3
   },
   "file_extension": ".py",
   "mimetype": "text/x-python",
   "name": "python",
   "nbconvert_exporter": "python",
   "pygments_lexer": "ipython3",
   "version": "3.11.7"
  }
 },
 "nbformat": 4,
 "nbformat_minor": 5
}
