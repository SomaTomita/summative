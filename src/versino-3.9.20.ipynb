{
 "cells": [
  {
   "cell_type": "code",
   "execution_count": 1,
   "id": "df2f41cc-2f2c-4d8d-9032-9b94b344dd44",
   "metadata": {},
   "outputs": [
    {
     "name": "stdout",
     "output_type": "stream",
     "text": [
      "# packages in environment at /opt/homebrew/anaconda3/envs/python:\n",
      "#\n",
      "# Name                    Version                   Build  Channel\n",
      "brotli-python             1.0.9            py39h313beb8_8  \n",
      "ipython                   8.15.0           py39hca03da5_0  \n",
      "python                    3.9.20               hb885b13_1  \n",
      "python-dateutil           2.9.0post0       py39hca03da5_2  \n",
      "python-fastjsonschema     2.16.2           py39hca03da5_0  \n",
      "python-json-logger        2.0.7            py39hca03da5_0  \n",
      "\n",
      "Note: you may need to restart the kernel to use updated packages.\n"
     ]
    }
   ],
   "source": [
    "conda list python"
   ]
  }
 ],
 "metadata": {
  "kernelspec": {
   "display_name": "Python 3 (ipykernel)",
   "language": "python",
   "name": "python3"
  },
  "language_info": {
   "codemirror_mode": {
    "name": "ipython",
    "version": 3
   },
   "file_extension": ".py",
   "mimetype": "text/x-python",
   "name": "python",
   "nbconvert_exporter": "python",
   "pygments_lexer": "ipython3",
   "version": "3.9.20"
  }
 },
 "nbformat": 4,
 "nbformat_minor": 5
}
