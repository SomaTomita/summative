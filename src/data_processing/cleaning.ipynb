{
 "cells": [
  {
   "cell_type": "code",
   "execution_count": 1,
   "id": "2c3c710b-1572-4717-b501-f7a45d158ab1",
   "metadata": {},
   "outputs": [
    {
     "name": "stdout",
     "output_type": "stream",
     "text": [
      "Collecting pandas\n",
      "  Downloading pandas-2.2.3-cp39-cp39-macosx_11_0_arm64.whl.metadata (89 kB)\n",
      "Collecting numpy>=1.22.4 (from pandas)\n",
      "  Downloading numpy-2.0.2-cp39-cp39-macosx_14_0_arm64.whl.metadata (60 kB)\n",
      "Requirement already satisfied: python-dateutil>=2.8.2 in /opt/homebrew/anaconda3/envs/python/lib/python3.9/site-packages (from pandas) (2.9.0.post0)\n",
      "Requirement already satisfied: pytz>=2020.1 in /opt/homebrew/anaconda3/envs/python/lib/python3.9/site-packages (from pandas) (2024.1)\n",
      "Collecting tzdata>=2022.7 (from pandas)\n",
      "  Downloading tzdata-2024.2-py2.py3-none-any.whl.metadata (1.4 kB)\n",
      "Requirement already satisfied: six>=1.5 in /opt/homebrew/anaconda3/envs/python/lib/python3.9/site-packages (from python-dateutil>=2.8.2->pandas) (1.16.0)\n",
      "Downloading pandas-2.2.3-cp39-cp39-macosx_11_0_arm64.whl (11.3 MB)\n",
      "\u001b[2K   \u001b[90m━━━━━━━━━━━━━━━━━━━━━━━━━━━━━━━━━━━━━━━━\u001b[0m \u001b[32m11.3/11.3 MB\u001b[0m \u001b[31m12.5 MB/s\u001b[0m eta \u001b[36m0:00:00\u001b[0ma \u001b[36m0:00:01\u001b[0m\n",
      "\u001b[?25hDownloading numpy-2.0.2-cp39-cp39-macosx_14_0_arm64.whl (5.3 MB)\n",
      "\u001b[2K   \u001b[90m━━━━━━━━━━━━━━━━━━━━━━━━━━━━━━━━━━━━━━━━\u001b[0m \u001b[32m5.3/5.3 MB\u001b[0m \u001b[31m12.5 MB/s\u001b[0m eta \u001b[36m0:00:00\u001b[0m00:01\u001b[0m00:01\u001b[0m\n",
      "\u001b[?25hDownloading tzdata-2024.2-py2.py3-none-any.whl (346 kB)\n",
      "Installing collected packages: tzdata, numpy, pandas\n",
      "Successfully installed numpy-2.0.2 pandas-2.2.3 tzdata-2024.2\n",
      "Note: you may need to restart the kernel to use updated packages.\n"
     ]
    }
   ],
   "source": [
    "pip install pandas"
   ]
  },
  {
   "cell_type": "code",
   "execution_count": 1,
   "id": "6f8513c3-443d-4eea-ae88-049b9a0255e5",
   "metadata": {},
   "outputs": [
    {
     "name": "stdout",
     "output_type": "stream",
     "text": [
      "Loaded data from ../../data/ACTIVITY_LOG.csv\n",
      "Loaded data from ../../data/USER_LOG.csv\n",
      "Data merged successfully.\n",
      "Data cleaned successfully.\n",
      "The cleaned dataset contains 172322948 rows.\n"
     ]
    },
    {
     "name": "stderr",
     "output_type": "stream",
     "text": [
      "/var/folders/dx/92lq65kj1pv01fns32c076kh0000gn/T/ipykernel_69066/3615475029.py:39: SettingWithCopyWarning: \n",
      "A value is trying to be set on a copy of a slice from a DataFrame\n",
      "\n",
      "See the caveats in the documentation: https://pandas.pydata.org/pandas-docs/stable/user_guide/indexing.html#returning-a-view-versus-a-copy\n",
      "  merged_data.dropna(inplace=True)\n"
     ]
    }
   ],
   "source": [
    "import pandas as pd\n",
    "import os\n",
    "\n",
    "\n",
    "BASE_PATH = '../../data/'\n",
    "activity_log_path = os.path.join(BASE_PATH, 'ACTIVITY_LOG.csv')\n",
    "user_log_path = os.path.join(BASE_PATH, 'USER_LOG.csv')\n",
    "\n",
    "\n",
    "def load_data(file_path, encoding='utf-8'):\n",
    "    try:\n",
    "        data = pd.read_csv(file_path, encoding=encoding)\n",
    "        print(f\"Loaded data from {file_path}\")\n",
    "        return data\n",
    "    except FileNotFoundError:\n",
    "        print(f\"Error: The file {file_path} was not found.\")\n",
    "    except pd.errors.EmptyDataError:\n",
    "        print(f\"Error: The file {file_path} is empty.\")\n",
    "    except Exception as e:\n",
    "        print(f\"Error loading {file_path}: {e}\")\n",
    "    return None\n",
    "\n",
    "def merge_data(activity_log, user_log):\n",
    "    if activity_log is not None and user_log is not None:\n",
    "        merged = pd.merge(activity_log, user_log, on='User Full Name *Anonymized', how='inner')\n",
    "        print(\"Data merged successfully.\")\n",
    "        return merged\n",
    "    else:\n",
    "        print(\"Error: One or more data frames are None, cannot proceed with merge.\")\n",
    "        return None\n",
    "\n",
    "def clean_data(merged_data):\n",
    "    if merged_data is not None:\n",
    "        # Rename\n",
    "        merged_data.rename(columns={'User Full Name *Anonymized': 'User_ID'}, inplace=True)\n",
    "        # Remove\n",
    "        merged_data = merged_data[~merged_data['Component'].isin(['System', 'Folder'])]\n",
    "        # Drop rows with any missing values\n",
    "        merged_data.dropna(inplace=True)\n",
    "        print(\"Data cleaned successfully.\")\n",
    "        \n",
    "        return merged_data\n",
    "    else:\n",
    "        print(\"Error: Merged data is None, cannot proceed with cleaning.\")\n",
    "        return None\n",
    "\n",
    "def clean():\n",
    "    activity_log = load_data(activity_log_path)\n",
    "    user_log = load_data(user_log_path)\n",
    "    merged_data = merge_data(activity_log, user_log)\n",
    "    cleaned_data = clean_data(merged_data)\n",
    "    \n",
    "    # Display the row count instead of saving the data\n",
    "    if cleaned_data is not None:\n",
    "        row_count = len(cleaned_data)\n",
    "        print(f\"The cleaned dataset contains {row_count} rows.\")\n",
    "    else:\n",
    "        print(\"Could not clean the data due to errors in processing.\")\n",
    "\n",
    "\n",
    "clean()\n"
   ]
  }
 ],
 "metadata": {
  "kernelspec": {
   "display_name": "Python 3 (ipykernel)",
   "language": "python",
   "name": "python3"
  },
  "language_info": {
   "codemirror_mode": {
    "name": "ipython",
    "version": 3
   },
   "file_extension": ".py",
   "mimetype": "text/x-python",
   "name": "python",
   "nbconvert_exporter": "python",
   "pygments_lexer": "ipython3",
   "version": "3.9.20"
  }
 },
 "nbformat": 4,
 "nbformat_minor": 5
}
