{
 "cells": [
  {
   "cell_type": "code",
   "execution_count": 15,
   "id": "265971fa-f795-4942-bc31-e02abcb556a5",
   "metadata": {},
   "outputs": [
    {
     "name": "stdout",
     "output_type": "stream",
     "text": [
      "conda 24.11.2\n",
      "\n",
      "Note: you may need to restart the kernel to use updated packages.\n"
     ]
    }
   ],
   "source": [
    "conda --version"
   ]
  },
  {
   "cell_type": "code",
   "execution_count": 11,
   "id": "8e12c274-d0ed-4a57-ad6e-da11d643cd02",
   "metadata": {},
   "outputs": [
    {
     "name": "stdout",
     "output_type": "stream",
     "text": [
      "# packages in environment at /opt/homebrew/anaconda3:\n",
      "#\n",
      "# Name                    Version                   Build  Channel\n",
      "brotli-python             1.0.9           py312h313beb8_8  \n",
      "gitpython                 3.1.43          py312hca03da5_0  \n",
      "ipython                   8.27.0          py312hca03da5_0  \n",
      "ipython_genutils          0.2.0              pyhd3eb1b0_1  \n",
      "msgpack-python            1.0.3           py312h48ca7d4_0  \n",
      "python                    3.12.7               h99e199e_0  \n",
      "python-dateutil           2.9.0post0      py312hca03da5_2  \n",
      "python-dotenv             0.21.0          py312hca03da5_0  \n",
      "python-fastjsonschema     2.16.2          py312hca03da5_0  \n",
      "python-json-logger        2.0.7           py312hca03da5_0  \n",
      "python-libarchive-c       5.1                pyhd3eb1b0_0  \n",
      "python-lmdb               1.4.1           py312h313beb8_0  \n",
      "python-lsp-black          2.0.0           py312hca03da5_0  \n",
      "python-lsp-jsonrpc        1.1.2              pyhd3eb1b0_0  \n",
      "python-lsp-server         1.10.0          py312hca03da5_0  \n",
      "python-slugify            5.0.2              pyhd3eb1b0_0  \n",
      "python-tzdata             2023.3             pyhd3eb1b0_0  \n",
      "python.app                3               py312h80987f9_1  \n",
      "\n",
      "Note: you may need to restart the kernel to use updated packages.\n"
     ]
    }
   ],
   "source": [
    "conda list python"
   ]
  },
  {
   "cell_type": "code",
   "execution_count": null,
   "id": "fd582622-e489-4209-a60d-8bb8c376019a",
   "metadata": {
    "scrolled": true
   },
   "outputs": [],
   "source": [
    "!pip install pandas matplotlib numpy tkinter pymongo\n",
    "\n",
    "print(\"All libraries installed and imported successfully!\")"
   ]
  }
 ],
 "metadata": {
  "kernelspec": {
   "display_name": "Python 3 (ipykernel)",
   "language": "python",
   "name": "python3"
  },
  "language_info": {
   "codemirror_mode": {
    "name": "ipython",
    "version": 3
   },
   "file_extension": ".py",
   "mimetype": "text/x-python",
   "name": "python",
   "nbconvert_exporter": "python",
   "pygments_lexer": "ipython3",
   "version": "3.12.7"
  }
 },
 "nbformat": 4,
 "nbformat_minor": 5
}
