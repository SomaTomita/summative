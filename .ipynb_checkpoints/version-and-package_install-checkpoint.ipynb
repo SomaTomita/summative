{
 "cells": [
  {
   "cell_type": "code",
   "execution_count": null,
   "id": "df2f41cc-2f2c-4d8d-9032-9b94b344dd44",
   "metadata": {},
   "outputs": [],
   "source": [
    "conda list python"
   ]
  }
 ],
 "metadata": {
  "kernelspec": {
   "display_name": "Python [conda env:base] *",
   "language": "python",
   "name": "conda-base-py"
  },
  "language_info": {
   "codemirror_mode": {
    "name": "ipython",
    "version": 3
   },
   "file_extension": ".py",
   "mimetype": "text/x-python",
   "name": "python",
   "nbconvert_exporter": "python",
   "pygments_lexer": "ipython3",
   "version": "3.10.16"
  }
 },
 "nbformat": 4,
 "nbformat_minor": 5
}
